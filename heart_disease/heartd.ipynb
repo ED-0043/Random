{
 "cells": [
  {
   "cell_type": "code",
   "execution_count": null,
   "metadata": {},
   "outputs": [],
   "source": [
    "import pandas as pd\n",
    "import seaborn as sns\n",
    "import matplotlib.pyplot as plt\n",
    "import numpy as np\n",
    "\n",
    "from sklearn.tree import DecisionTreeClassifier, ExtraTreeClassifier\n",
    "from sklearn.ensemble import VotingClassifier, BaggingClassifier, RandomForestClassifier\n",
    "from sklearn.model_selection import RandomizedSearchCV, KFold, cross_val_score, train_test_split\n",
    "from sklearn.metrics import confusion_matrix\n",
    "\n",
    "from xgboost import XGBClassifier\n",
    "from lazypredict.Supervised import LazyClassifier\n",
    "\n",
    "heart = pd.read_csv(\"heart_disease_df_1.csv\")\n",
    "heart.sample(15, random_state=43)"
   ]
  },
  {
   "cell_type": "code",
   "execution_count": null,
   "metadata": {},
   "outputs": [],
   "source": [
    "# information on the value counts and datatypes for the dataset\n",
    "heart.info(verbose=True, show_counts=True)"
   ]
  },
  {
   "cell_type": "code",
   "execution_count": null,
   "metadata": {},
   "outputs": [],
   "source": [
    "# detailed description of the data\n",
    "heart.describe()"
   ]
  },
  {
   "cell_type": "code",
   "execution_count": null,
   "metadata": {},
   "outputs": [],
   "source": [
    "heart_clean = heart.drop(columns='oldpeak').ffill()\n",
    "heart_clean"
   ]
  },
  {
   "cell_type": "code",
   "execution_count": null,
   "metadata": {},
   "outputs": [],
   "source": [
    "# making dure that there are no missing values\n",
    "heart_clean.isna().sum()"
   ]
  },
  {
   "cell_type": "markdown",
   "metadata": {},
   "source": [
    "### EXPLORATORY DATA ANALYSIS"
   ]
  },
  {
   "cell_type": "code",
   "execution_count": null,
   "metadata": {},
   "outputs": [],
   "source": [
    "# spliting the data frame between men and women \n",
    "men = heart_clean.set_index('sex').loc[1]\n",
    "women = heart_clean.set_index('sex').loc[0]\n",
    "men.sort_values('age')\n",
    "#women = heart_clean.set_index('sex').loc[0]"
   ]
  },
  {
   "cell_type": "code",
   "execution_count": null,
   "metadata": {},
   "outputs": [],
   "source": [
    "# grouping the dataset by age and sex and getting the mean of the coressponding features\n",
    "heart_stats = heart_clean.groupby(['sex', 'age'])[heart_clean.drop(['sex', 'age', 'target'], axis=1).columns].mean()\n",
    "heart_stats"
   ]
  },
  {
   "cell_type": "code",
   "execution_count": null,
   "metadata": {},
   "outputs": [],
   "source": [
    "plt.bar(heart_clean['age'].values, heart_clean['chol'].values, )\n",
    "plt.show()"
   ]
  },
  {
   "cell_type": "markdown",
   "metadata": {},
   "source": [
    "### MODEL TRAINING"
   ]
  },
  {
   "cell_type": "code",
   "execution_count": null,
   "metadata": {},
   "outputs": [],
   "source": [
    "# using lazy regressor to chose the appropriate model\n",
    "x = heart_clean.drop('target', axis=1)\n",
    "y = heart_clean['target']\n",
    "\n",
    "xtrain, xtest, ytrain, ytest = train_test_split(x, y, random_state=34, train_size=.7)\n",
    "\n",
    "lazy = LazyClassifier(verbose=1, ignore_warnings=True, random_state=43)\n",
    "models, predictions = lazy.fit(xtrain, xtest, ytrain, ytest)\n",
    "predictions.sort_values('Time Taken')"
   ]
  },
  {
   "cell_type": "code",
   "execution_count": null,
   "metadata": {},
   "outputs": [],
   "source": [
    "params = {\"criterion\": [],\n",
    "          \"max_depth\": [],\n",
    "          \"min_sample_split\": []}\n",
    "\n",
    "extra = ExtraTreeClassifier()\n",
    "dtc = DecisionTreeClassifier()\n",
    "\n",
    "xgb = XGBClassifier()\n",
    "xgb_params = {}\n",
    "\n",
    "bag = BaggingClassifier(estimator=extra, n_estimators=15, oob_score=True)\n",
    "rf = RandomForestClassifier(n_estimators=200, criterion='entropy', max_depth=5)\n",
    "vote = VotingClassifier(estimators=[extra, dtc], n_jobs=2)\n",
    "\n",
    "# employing randsearchcv to find the best model configureations amongst the models\n",
    "models = [dtc, extra]\n",
    "\n",
    "kfold = KFold(n_splits=5, shuffle=True, random_state=41)\n",
    "\n",
    "for model in models:\n",
    "    rand = RandomizedSearchCV(estimator=model,\n",
    "                              param_distributions=params, \n",
    "                              n_iter=5, \n",
    "                              cv=kfold,\n",
    "                              random_state=456)\n",
    "    rand.fit(xtrain, ytrain)\n",
    "    rand.best_estimator_, rand.best_score_\n",
    "# hyperparameter tunning \n",
    "\n",
    "models = [dtc, extra]\n",
    "for model in models:\n",
    "    scores = cross_val_score(model, xtrain, ytrain, cv=kfold,)\n",
    "    scores"
   ]
  },
  {
   "cell_type": "code",
   "execution_count": null,
   "metadata": {},
   "outputs": [],
   "source": [
    "ypred = model.predict(xtest)\n",
    "confusion_matrix(ytest, ypred, normalize='true')"
   ]
  },
  {
   "cell_type": "code",
   "execution_count": null,
   "metadata": {},
   "outputs": [],
   "source": [
    "from sklearn.feature_selection import SelectFromModel\n",
    "\n",
    "dtc = dtc.fit(xtrain, ytrain)\n",
    "\n",
    "model = SelectFromModel(dtc, prefit=True)\n",
    "features_bool = model.get_support()\n",
    "features = heart_clean.drop('target', axis=1).columns[features_bool]\n",
    "features"
   ]
  }
 ],
 "metadata": {
  "kernelspec": {
   "display_name": "Python 3",
   "language": "python",
   "name": "python3"
  },
  "language_info": {
   "codemirror_mode": {
    "name": "ipython",
    "version": 3
   },
   "file_extension": ".py",
   "mimetype": "text/x-python",
   "name": "python",
   "nbconvert_exporter": "python",
   "pygments_lexer": "ipython3",
   "version": "3.10.12"
  }
 },
 "nbformat": 4,
 "nbformat_minor": 2
}
