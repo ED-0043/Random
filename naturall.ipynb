{
 "cells": [
  {
   "cell_type": "code",
   "execution_count": null,
   "metadata": {},
   "outputs": [],
   "source": [
    "from nltk.tokenize import word_tokenize, sent_tokenize\n",
    "from spacy.lang.en.stop_words import STOP_WORDS\n",
    "from spacy.lang.en.lemmatizer import EnglishLemmatizer\n",
    "from sklearn.model_selection import train_test_split\n",
    "from sklearn.naive_bayes import MultinomialNB\n",
    "from sklearn import metrics\n",
    "\n",
    "import spacy \n",
    "import numpy as np\n",
    "import pandas as pd\n",
    "import matplotlib.pyplot as plt\n"
   ]
  },
  {
   "cell_type": "code",
   "execution_count": null,
   "metadata": {},
   "outputs": [],
   "source": [
    "nlp = spacy.load()\n",
    "doc = nlp()\n",
    "\n",
    "def new_func(doc):\n",
    "    token = [token for token.token in doc]\n",
    "    token_lemma = [token.lemma_ for token in doc]\n",
    "    token_ner = [token.ent for token in doc.ent]\n",
    "\n",
    "new_func(doc)\n"
   ]
  },
  {
   "cell_type": "code",
   "execution_count": null,
   "metadata": {},
   "outputs": [],
   "source": [
    "def new_func():\n",
    "    model = MultinomialNB()\n",
    "    model.fit()\n",
    "    pred = model.predict()\n",
    "\n",
    "    print(f\"score for multinomialNB is {metrics.accuracy_score(pred, )}\")\n",
    "\n",
    "models = []\n",
    "\n",
    "for model in models:\n",
    "    new_func(model)\n"
   ]
  }
 ],
 "metadata": {
  "kernelspec": {
   "display_name": "Python 3",
   "language": "python",
   "name": "python3"
  },
  "language_info": {
   "codemirror_mode": {
    "name": "ipython",
    "version": 3
   },
   "file_extension": ".py",
   "mimetype": "text/x-python",
   "name": "python",
   "nbconvert_exporter": "python",
   "pygments_lexer": "ipython3",
   "version": "3.11.5"
  }
 },
 "nbformat": 4,
 "nbformat_minor": 2
}
