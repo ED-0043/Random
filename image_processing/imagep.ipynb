{
 "cells": [
  {
   "cell_type": "code",
   "execution_count": 1,
   "metadata": {},
   "outputs": [
    {
     "ename": "ModuleNotFoundError",
     "evalue": "No module named 'skimage'",
     "output_type": "error",
     "traceback": [
      "\u001b[0;31m---------------------------------------------------------------------------\u001b[0m",
      "\u001b[0;31mModuleNotFoundError\u001b[0m                       Traceback (most recent call last)",
      "Cell \u001b[0;32mIn[1], line 1\u001b[0m\n\u001b[0;32m----> 1\u001b[0m \u001b[38;5;28;01mfrom\u001b[39;00m \u001b[38;5;21;01mskimage\u001b[39;00m\u001b[38;5;21;01m.\u001b[39;00m\u001b[38;5;21;01mfilters\u001b[39;00m \u001b[38;5;28;01mimport\u001b[39;00m gaussian, thresholding\n\u001b[1;32m      2\u001b[0m \u001b[38;5;28;01mfrom\u001b[39;00m \u001b[38;5;21;01mskimage\u001b[39;00m\u001b[38;5;21;01m.\u001b[39;00m\u001b[38;5;21;01mcolor\u001b[39;00m \u001b[38;5;28;01mimport\u001b[39;00m rgb2gray\n\u001b[1;32m      3\u001b[0m \u001b[38;5;28;01mfrom\u001b[39;00m \u001b[38;5;21;01mskimage\u001b[39;00m\u001b[38;5;21;01m.\u001b[39;00m\u001b[38;5;21;01mtransform\u001b[39;00m \u001b[38;5;28;01mimport\u001b[39;00m resize\n",
      "\u001b[0;31mModuleNotFoundError\u001b[0m: No module named 'skimage'"
     ]
    }
   ],
   "source": [
    "from skimage.filters import gaussian, thresholding\n",
    "from skimage.color import rgb2gray\n",
    "from skimage.transform import resize\n",
    "from skimage.morphology import erosion\n",
    "from keras.layers import Dense, Conv2D, Flatten, MaxPool2D \n",
    "from keras.models import Sequential, Model\n",
    "from keras.callbacks import EarlyStopping, ModelCheckpoint\n",
    "from keras.utils import to_categorical\n",
    "from sklearn.model_selection import train_test_split\n",
    "\n",
    "import pandas as pd\n",
    "import matplotlib.pyplot as plt\n",
    "\n",
    "import os\n",
    " "
   ]
  },
  {
   "cell_type": "code",
   "execution_count": null,
   "metadata": {},
   "outputs": [],
   "source": [
    "# reading images into a dictionary\n",
    "def readimage(location: str):\n",
    "    store = []\n",
    "    for x in location:\n",
    "        image = plt.imread(x)\n",
    "        store.append(image)\n",
    "    \n",
    "    return store\n"
   ]
  },
  {
   "cell_type": "code",
   "execution_count": null,
   "metadata": {},
   "outputs": [],
   "source": [
    "# transforming images for model training\n",
    "#FIXME: write the proper function\n",
    "def transform(data: list):\n",
    "    image = plt.imread(\"chapter 1\\\\bw.jpg\")\n",
    "    smaller = rgb2gray(image)\n",
    "    smaller = resize(image=image, output_shape=[120, 175], anti_aliasing=True)\n",
    "    smaller = gaussian(smaller,)\n",
    "    eroded = erosion(smaller)\n",
    "    plt.imshow(eroded)"
   ]
  },
  {
   "cell_type": "code",
   "execution_count": null,
   "metadata": {},
   "outputs": [],
   "source": [
    "imagedata = pd.DataFrame({\"image\": readimage(), \n",
    "                          \"label\": str})\n",
    "\n",
    "x = imagedata['image'].reshape().values\n",
    "y = to_categorical(imagedata['label'])"
   ]
  },
  {
   "cell_type": "code",
   "execution_count": null,
   "metadata": {},
   "outputs": [],
   "source": [
    "# data preprocessing \n",
    "\n",
    "xtrain, xtest, ytrain, ytest = train_test_split(x, y, test_size=0.3, random_state=2344) #stratify=True??"
   ]
  },
  {
   "cell_type": "code",
   "execution_count": null,
   "metadata": {},
   "outputs": [],
   "source": [
    "# instanciate sequential model for image classification \n",
    "\n",
    "model = Sequential([Dense(),\n",
    "                    Conv2D(),\n",
    "                    MaxPool2D(),\n",
    "                    Flatten(),\n",
    "                    Dense(),\n",
    "                    Dense()],\n",
    "                    name=\"imageModel\"\n",
    "                    )\n",
    "\n",
    "checkpoint = ModelCheckpoint(monitor='val_loss',\n",
    "                             save_best_only=True,\n",
    "                             save_weights_only=False\n",
    "                            )\n",
    "stopping = EarlyStopping(monitor='accuracy',\n",
    "                         patience=5,\n",
    "                         mode='auto',\n",
    "                         restore_best_weights=True)\n",
    "\n",
    "model.compile(optimizer='adam', \n",
    "              metrics=['accuracy'], \n",
    "              loss='categorical_crossentropy'\n",
    "              )\n",
    "\n",
    "model.fit(xtrain, ytrain, \n",
    "          epochs=10, \n",
    "          verbose='auto', \n",
    "          validation_split=0.2, \n",
    "          shuffle=True, \n",
    "          use_multiprocessing=True, \n",
    "          callbacks=[checkpoint, stopping]\n",
    "          )\n"
   ]
  },
  {
   "cell_type": "code",
   "execution_count": null,
   "metadata": {},
   "outputs": [],
   "source": [
    "model.summary()"
   ]
  }
 ],
 "metadata": {
  "kernelspec": {
   "display_name": "Python 3",
   "language": "python",
   "name": "python3"
  },
  "language_info": {
   "codemirror_mode": {
    "name": "ipython",
    "version": 3
   },
   "file_extension": ".py",
   "mimetype": "text/x-python",
   "name": "python",
   "nbconvert_exporter": "python",
   "pygments_lexer": "ipython3",
   "version": "3.10.12"
  }
 },
 "nbformat": 4,
 "nbformat_minor": 2
}
