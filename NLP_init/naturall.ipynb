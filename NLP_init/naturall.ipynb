{
 "cells": [
  {
   "cell_type": "code",
   "execution_count": 75,
   "metadata": {},
   "outputs": [],
   "source": [
    "import pandas as pd\n",
    "import textatistic as tx\n",
    "import os\n",
    "import spacy\n",
    "\n",
    "from nltk.stem import WordNetLemmatizer\n",
    "from sklearn.naive_bayes import MultinomialNB\n",
    "from sklearn.feature_extraction.text import CountVectorizer, TfidfVectorizer\n",
    "from sklearn.metrics.pairwise import linear_kernel, cosine_similarity\n",
    "from spacy.lang.en.stop_words import STOP_WORDS\n"
   ]
  },
  {
   "cell_type": "code",
   "execution_count": 77,
   "metadata": {},
   "outputs": [
    {
     "ename": "FileNotFoundError",
     "evalue": "[Errno 2] No such file or directory: '0_10.txt'",
     "output_type": "error",
     "traceback": [
      "\u001b[1;31m---------------------------------------------------------------------------\u001b[0m",
      "\u001b[1;31mFileNotFoundError\u001b[0m                         Traceback (most recent call last)",
      "Cell \u001b[1;32mIn[77], line 18\u001b[0m\n\u001b[0;32m     15\u001b[0m             loc\u001b[38;5;241m.\u001b[39mappend(file\u001b[38;5;241m.\u001b[39mreadlines())\n\u001b[0;32m     17\u001b[0m maker(neg_data, dir_neg)\n\u001b[1;32m---> 18\u001b[0m \u001b[43mmaker\u001b[49m\u001b[43m(\u001b[49m\u001b[43mpos_data\u001b[49m\u001b[43m,\u001b[49m\u001b[43m \u001b[49m\u001b[43mdir_pos\u001b[49m\u001b[43m)\u001b[49m\n\u001b[0;32m     20\u001b[0m doc_neg \u001b[38;5;241m=\u001b[39m pd\u001b[38;5;241m.\u001b[39mDataFrame({\u001b[38;5;124m'\u001b[39m\u001b[38;5;124mx\u001b[39m\u001b[38;5;124m'\u001b[39m: neg_data, \u001b[38;5;124m'\u001b[39m\u001b[38;5;124my\u001b[39m\u001b[38;5;124m'\u001b[39m: \u001b[38;5;241m0\u001b[39m})\n\u001b[0;32m     21\u001b[0m doc_pos \u001b[38;5;241m=\u001b[39m pd\u001b[38;5;241m.\u001b[39mDataFrame({\u001b[38;5;124m'\u001b[39m\u001b[38;5;124mx\u001b[39m\u001b[38;5;124m'\u001b[39m: pos_data, \u001b[38;5;124m'\u001b[39m\u001b[38;5;124my\u001b[39m\u001b[38;5;124m'\u001b[39m: \u001b[38;5;241m1\u001b[39m})\n",
      "Cell \u001b[1;32mIn[77], line 14\u001b[0m, in \u001b[0;36mmaker\u001b[1;34m(loc, path)\u001b[0m\n\u001b[0;32m     12\u001b[0m \u001b[38;5;28;01mdef\u001b[39;00m \u001b[38;5;21mmaker\u001b[39m(loc: \u001b[38;5;28mlist\u001b[39m, path: \u001b[38;5;28mstr\u001b[39m):\n\u001b[0;32m     13\u001b[0m     \u001b[38;5;28;01mfor\u001b[39;00m files \u001b[38;5;129;01min\u001b[39;00m os\u001b[38;5;241m.\u001b[39mlistdir(path):\n\u001b[1;32m---> 14\u001b[0m         \u001b[38;5;28;01mwith\u001b[39;00m \u001b[38;5;28;43mopen\u001b[39;49m\u001b[43m(\u001b[49m\u001b[43mfiles\u001b[49m\u001b[43m,\u001b[49m\u001b[43m \u001b[49m\u001b[38;5;124;43m'\u001b[39;49m\u001b[38;5;124;43mrb\u001b[39;49m\u001b[38;5;124;43m'\u001b[39;49m\u001b[43m)\u001b[49m \u001b[38;5;28;01mas\u001b[39;00m file:\n\u001b[0;32m     15\u001b[0m             loc\u001b[38;5;241m.\u001b[39mappend(file\u001b[38;5;241m.\u001b[39mreadlines())\n",
      "File \u001b[1;32mc:\\Users\\KingED\\AppData\\Local\\Programs\\Python\\Python311\\Lib\\site-packages\\IPython\\core\\interactiveshell.py:286\u001b[0m, in \u001b[0;36m_modified_open\u001b[1;34m(file, *args, **kwargs)\u001b[0m\n\u001b[0;32m    279\u001b[0m \u001b[38;5;28;01mif\u001b[39;00m file \u001b[38;5;129;01min\u001b[39;00m {\u001b[38;5;241m0\u001b[39m, \u001b[38;5;241m1\u001b[39m, \u001b[38;5;241m2\u001b[39m}:\n\u001b[0;32m    280\u001b[0m     \u001b[38;5;28;01mraise\u001b[39;00m \u001b[38;5;167;01mValueError\u001b[39;00m(\n\u001b[0;32m    281\u001b[0m         \u001b[38;5;124mf\u001b[39m\u001b[38;5;124m\"\u001b[39m\u001b[38;5;124mIPython won\u001b[39m\u001b[38;5;124m'\u001b[39m\u001b[38;5;124mt let you open fd=\u001b[39m\u001b[38;5;132;01m{\u001b[39;00mfile\u001b[38;5;132;01m}\u001b[39;00m\u001b[38;5;124m by default \u001b[39m\u001b[38;5;124m\"\u001b[39m\n\u001b[0;32m    282\u001b[0m         \u001b[38;5;124m\"\u001b[39m\u001b[38;5;124mas it is likely to crash IPython. If you know what you are doing, \u001b[39m\u001b[38;5;124m\"\u001b[39m\n\u001b[0;32m    283\u001b[0m         \u001b[38;5;124m\"\u001b[39m\u001b[38;5;124myou can use builtins\u001b[39m\u001b[38;5;124m'\u001b[39m\u001b[38;5;124m open.\u001b[39m\u001b[38;5;124m\"\u001b[39m\n\u001b[0;32m    284\u001b[0m     )\n\u001b[1;32m--> 286\u001b[0m \u001b[38;5;28;01mreturn\u001b[39;00m \u001b[43mio_open\u001b[49m\u001b[43m(\u001b[49m\u001b[43mfile\u001b[49m\u001b[43m,\u001b[49m\u001b[43m \u001b[49m\u001b[38;5;241;43m*\u001b[39;49m\u001b[43margs\u001b[49m\u001b[43m,\u001b[49m\u001b[43m \u001b[49m\u001b[38;5;241;43m*\u001b[39;49m\u001b[38;5;241;43m*\u001b[39;49m\u001b[43mkwargs\u001b[49m\u001b[43m)\u001b[49m\n",
      "\u001b[1;31mFileNotFoundError\u001b[0m: [Errno 2] No such file or directory: '0_10.txt'"
     ]
    }
   ],
   "source": [
    "\"\"\"\n",
    "TODO: create or rather merge the pos and neg folders into one single dataframe docs\n",
    "FIXME: check if this works well later and DO NOT TOUCH \n",
    "\n",
    "\"\"\"\n",
    "neg_data = []\n",
    "pos_data = []\n",
    "\n",
    "dir_neg = r\"C:\\Users\\KingED\\Documents\\Random\\NLP_init\\test\\neg\"\n",
    "dir_pos = r\"C:\\Users\\KingED\\Documents\\Random\\NLP_init\\test\\pos\"\n",
    "\n",
    "def maker(loc: list, path: str):\n",
    "    for files in os.listdir(path):\n",
    "        with open(files, 'rb') as file:\n",
    "            loc.append(file.readlines())\n",
    "       \n",
    "maker(neg_data, dir_neg)\n",
    "maker(pos_data, dir_pos)\n",
    "\n",
    "doc_neg = pd.DataFrame({'x': neg_data, 'y': 0})\n",
    "doc_pos = pd.DataFrame({'x': pos_data, 'y': 1})\n",
    "\n",
    "doc = pd.merge(doc_pos, doc_neg)\n"
   ]
  },
  {
   "cell_type": "code",
   "execution_count": 76,
   "metadata": {},
   "outputs": [
    {
     "ename": "TypeError",
     "evalue": "Textatistic.__init__() missing 1 required positional argument: 'text'",
     "output_type": "error",
     "traceback": [
      "\u001b[1;31m---------------------------------------------------------------------------\u001b[0m",
      "\u001b[1;31mTypeError\u001b[0m                                 Traceback (most recent call last)",
      "Cell \u001b[1;32mIn[76], line 10\u001b[0m\n\u001b[0;32m      1\u001b[0m \u001b[38;5;124;03m\"\"\"\u001b[39;00m\n\u001b[0;32m      2\u001b[0m \u001b[38;5;124;03mTODO: READABILITY TEST\u001b[39;00m\n\u001b[0;32m      3\u001b[0m \u001b[38;5;124;03mTODO: TOKENIZATION\u001b[39;00m\n\u001b[1;32m   (...)\u001b[0m\n\u001b[0;32m      7\u001b[0m \n\u001b[0;32m      8\u001b[0m \u001b[38;5;124;03m\"\"\"\u001b[39;00m\n\u001b[1;32m---> 10\u001b[0m test \u001b[38;5;241m=\u001b[39m \u001b[43mtx\u001b[49m\u001b[38;5;241;43m.\u001b[39;49m\u001b[43mTextatistic\u001b[49m\u001b[43m(\u001b[49m\u001b[43m)\u001b[49m\n\u001b[0;32m     12\u001b[0m \u001b[38;5;28;01mdef\u001b[39;00m \u001b[38;5;21mreadingscores\u001b[39m():\n\u001b[0;32m     13\u001b[0m     fog_score \u001b[38;5;241m=\u001b[39m tx\u001b[38;5;241m.\u001b[39mgunningfog_score()\n",
      "\u001b[1;31mTypeError\u001b[0m: Textatistic.__init__() missing 1 required positional argument: 'text'"
     ]
    }
   ],
   "source": [
    "\"\"\"\n",
    "TODO: READABILITY TEST\n",
    "TODO: TOKENIZATION\n",
    "TODO: REMOVE STOPWORDS\n",
    "TODO: LEMMATIZE\n",
    "TODO: WORD AND CHARACTER COUNT\n",
    "\n",
    "\"\"\"\n",
    "\n",
    "test = tx.Textatistic()\n",
    "\n",
    "def readingscores():\n",
    "    fog_score = tx.gunningfog_score()\n",
    "    flesch_score = tx.flesch_score()\n",
    "    \n",
    "    return [fog_score, flesch_score]\n",
    "\n",
    "def sent_tokenizer(doc):\n",
    "    doc.lower()\n",
    "    sent_tokens = [sent_tokens for word in doc if word != STOP_WORDS]\n",
    "    \n",
    "    return sent_tokens\n",
    "\n",
    "def word_tokenizer(doc):\n",
    "    doc.lower()\n",
    "    word_tokens = [word_tokens for word in doc if word != STOP_WORDS]\n",
    "    \n",
    "    return word_tokens\n",
    "\n"
   ]
  },
  {
   "cell_type": "code",
   "execution_count": null,
   "metadata": {},
   "outputs": [],
   "source": [
    "# SPACEY\n",
    "\"\"\"\n",
    "TODO: NER\n",
    "TODO: POS TAGGING\n",
    "\"\"\"\n",
    "\n",
    "nlp = spacy.load(\"en_core_web_sm\")\n",
    "doc = nlp(doc)\n",
    "\n",
    "def ner_pos():\n",
    "    ners = [(token.text, token.label_) for word in doc]\n",
    "    tags = [(token.text, token.tags_) for word in doc]\n",
    "    "
   ]
  }
 ],
 "metadata": {
  "kernelspec": {
   "display_name": "Python 3",
   "language": "python",
   "name": "python3"
  },
  "language_info": {
   "codemirror_mode": {
    "name": "ipython",
    "version": 3
   },
   "file_extension": ".py",
   "mimetype": "text/x-python",
   "name": "python",
   "nbconvert_exporter": "python",
   "pygments_lexer": "ipython3",
   "version": "3.11.5"
  }
 },
 "nbformat": 4,
 "nbformat_minor": 2
}
