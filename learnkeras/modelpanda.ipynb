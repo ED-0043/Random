{
 "cells": [
  {
   "cell_type": "code",
   "execution_count": 44,
   "metadata": {},
   "outputs": [],
   "source": [
    "import pandas as pd\n",
    "import keras\n",
    "import seaborn as sns\n",
    "import matplotlib.pyplot as plt\n",
    "import os\n",
    "\n",
    "data = pd.read_csv(\"unemployment-rate-men-vs-women.csv\")"
   ]
  },
  {
   "cell_type": "code",
   "execution_count": 2,
   "metadata": {},
   "outputs": [
    {
     "data": {
      "text/plain": [
       "Index(['Entity', 'Code', 'Year',\n",
       "       'Unemployment, female (% of female labor force) (modeled ILO estimate)',\n",
       "       'Unemployment, male (% of male labor force) (modeled ILO estimate)',\n",
       "       'Population (historical estimates)', 'Continent'],\n",
       "      dtype='object')"
      ]
     },
     "execution_count": 2,
     "metadata": {},
     "output_type": "execute_result"
    }
   ],
   "source": [
    "data.columns"
   ]
  },
  {
   "cell_type": "code",
   "execution_count": 3,
   "metadata": {},
   "outputs": [],
   "source": [
    "mapper = {'Unemployment, female (% of female labor force) (modeled ILO estimate)': 'unemployment_women',\n",
    "          'Unemployment, male (% of male labor force) (modeled ILO estimate)': 'unemployment_men',\n",
    "          'Population (historical estimates)': 'population'\n",
    "          }\n",
    "\n",
    "data.rename(columns=mapper, inplace=True)\n",
    "data.rename(str.lower, axis='columns', inplace=True)\n"
   ]
  },
  {
   "cell_type": "code",
   "execution_count": 4,
   "metadata": {},
   "outputs": [
    {
     "data": {
      "text/plain": [
       "pandas.core.frame.DataFrame"
      ]
     },
     "execution_count": 4,
     "metadata": {},
     "output_type": "execute_result"
    }
   ],
   "source": [
    "data.isna().sum()\n",
    "\n",
    "type(data)"
   ]
  },
  {
   "cell_type": "code",
   "execution_count": 13,
   "metadata": {},
   "outputs": [
    {
     "name": "stderr",
     "output_type": "stream",
     "text": [
      "C:\\Users\\KingED\\AppData\\Local\\Temp\\ipykernel_22936\\763551472.py:12: FutureWarning: Series.fillna with 'method' is deprecated and will raise in a future version. Use obj.ffill() or obj.bfill() instead.\n",
      "  dataframe[column] = dataframe[column].fillna(method='ffill')\n"
     ]
    }
   ],
   "source": [
    "# data['code'].sort_values('code').fillna(method='ffill', inplace=True)\n",
    "# data['unemployment_men'].fillna(value=data['unemployment_men'].mean(), inplace=True)\n",
    "# data['unemployment_women'].fillna(value=data['unemployment_women'].mean(), inplace=True)\n",
    "# data['population'].fillna(value=data['population'].mean(), inplace=True)\n",
    "\n",
    "def filler(dataframe: pd.DataFrame, column: str):\n",
    "    \"\"\"\n",
    "    applies the forward fill method of the pandas package on a column in a dataframe\n",
    "\n",
    "    ARGS:\n",
    "    \"\"\"\n",
    "    dataframe[column] = dataframe[column].fillna(method='ffill')\n",
    "    return dataframe[column]\n",
    "\n",
    "def mean_filler(dataframe: pd.DataFrame, column: str):\n",
    "    \"\"\"\n",
    "    applies mean of a column on all missing values in a column, do not use of missing values are too much\n",
    "    \"\"\"\n",
    "    dataframe[column] = dataframe[column].fillna(value=dataframe[column].mean())\n",
    "    return dataframe[column]\n",
    "\n",
    "filler(data, \"code\")\n",
    "filler(data, 'continent')\n",
    "mean_filler(data, 'unemployment_men')\n",
    "mean_filler(data, 'unemployment_women')\n",
    "mean_filler(data, 'population')\n",
    "\n",
    "data.to_csv(\"unemployment_rate.csv\")"
   ]
  },
  {
   "cell_type": "code",
   "execution_count": 43,
   "metadata": {},
   "outputs": [
    {
     "name": "stdout",
     "output_type": "stream",
     "text": [
      "4 8\n",
      "Epoch 1/15\n",
      "1831/1831 [==============================] - 8s 4ms/step - loss: 43758649344000.0000 - accuracy: 1.7071e-05\n",
      "Epoch 2/15\n",
      "1831/1831 [==============================] - 6s 3ms/step - loss: 4913079779328.0000 - accuracy: 1.7071e-05\n",
      "Epoch 3/15\n",
      "1831/1831 [==============================] - 6s 3ms/step - loss: 487909.9688 - accuracy: 0.0000e+00\n",
      "Epoch 4/15\n",
      "1831/1831 [==============================] - 7s 4ms/step - loss: 1265532665856.0000 - accuracy: 0.0000e+00\n",
      "Epoch 5/15\n",
      "1831/1831 [==============================] - 6s 3ms/step - loss: 396.2180 - accuracy: 1.7071e-05\n",
      "Epoch 6/15\n",
      "1831/1831 [==============================] - 6s 3ms/step - loss: 100651663360.0000 - accuracy: 0.0000e+00\n",
      "Epoch 7/15\n",
      "1831/1831 [==============================] - 6s 3ms/step - loss: 38706.2891 - accuracy: 0.0000e+00\n",
      "Epoch 8/15\n",
      "1831/1831 [==============================] - 7s 4ms/step - loss: 66.1365 - accuracy: 0.0000e+00\n",
      "Epoch 9/15\n",
      "1831/1831 [==============================] - 6s 3ms/step - loss: 70.8197 - accuracy: 0.0000e+00\n",
      "Epoch 10/15\n",
      "1831/1831 [==============================] - 6s 3ms/step - loss: 63.0550 - accuracy: 0.0000e+00\n",
      "Epoch 11/15\n",
      "1831/1831 [==============================] - 6s 3ms/step - loss: 62.9625 - accuracy: 0.0000e+00\n",
      "Epoch 12/15\n",
      "1831/1831 [==============================] - 6s 3ms/step - loss: 66.7611 - accuracy: 1.7071e-05\n",
      "Epoch 13/15\n",
      "1831/1831 [==============================] - 6s 3ms/step - loss: 48.3642 - accuracy: 1.7071e-05\n",
      "Epoch 14/15\n",
      "1831/1831 [==============================] - 6s 3ms/step - loss: 44.6871 - accuracy: 1.7071e-05\n",
      "Epoch 15/15\n",
      "1831/1831 [==============================] - 6s 3ms/step - loss: 18.3707 - accuracy: 1.7071e-05\n"
     ]
    },
    {
     "data": {
      "text/plain": [
       "<keras.src.callbacks.History at 0x13ca68b65d0>"
      ]
     },
     "execution_count": 43,
     "metadata": {},
     "output_type": "execute_result"
    }
   ],
   "source": [
    "new = pd.read_csv(\"unemployment_rate.csv\")\n",
    "\n",
    "import numpy as np\n",
    "from keras.models import Sequential\n",
    "from keras.layers import Dense\n",
    "from sklearn.preprocessing import LabelEncoder, OneHotEncoder\n",
    "\n",
    "encoder = LabelEncoder()\n",
    "hotcoder = OneHotEncoder()\n",
    "new['continent'] = encoder.fit_transform(new['continent'])\n",
    "\n",
    "x =new[['continent', 'year', 'unemployment_women', 'population']]\n",
    "y =new['unemployment_men']\n",
    "input_shape = len(x.columns)\n",
    "print(input_shape, new.shape[1])\n",
    "\n",
    "model = Sequential()\n",
    "model.add(Dense(100, input_shape=(4, ), activation='linear'))\n",
    "model.add(Dense(75, activation='relu'))\n",
    "model.add(Dense(30, activation='relu'))\n",
    "model.add(Dense(1))\n",
    "\n",
    "model.compile(optimizer='adam', loss='mse', metrics='accuracy')\n",
    "model.fit(x, y, epochs=15)\n"
   ]
  },
  {
   "cell_type": "code",
   "execution_count": null,
   "metadata": {},
   "outputs": [],
   "source": [
    "# hyperparameter tuning\n",
    "# - you can use batch normalization from the keras.layers module\n",
    "# - you can convert keras model to scikitlearn estimator using the scikeras module, [from scikeras import KerasClassifier]\n",
    "\n",
    "# random search on keras\n",
    "\n",
    "# model = Sequential([Dense(input_sape=(), activation='relu', units=100),\n",
    "#                     Dense(activation='relu', units=50),\n",
    "#                     Dense(activation='softmax', units=10)])\n",
    "\n",
    "# model_sk = KerasClassifier(build_fn=model, batch_size=x, epochs=y)\n",
    "\n",
    "# params = {'optimizer': ['sdg', 'adama'],\n",
    "#           'epochs': 3,\n",
    "#           'activation': ['relu', 'tanh'],}\n",
    "\n",
    "# random = RandomSearchCV(model_sk, params_dict=params, cv=3)\n",
    "# randomised = random.fit(x, y)\n",
    "\n",
    "# print(f\"Best score is {randomised.best_score_},\n",
    "#        using {randomised.best_params_}\")\n",
    "\n",
    "# from typing import List\n",
    "\n",
    "# def model(nn: List[int], nl: List[int]):\n",
    "#     model = Sequential()\n",
    "#     model.add(Dense(16, input_shape=(2, ), activation='relu'))\n",
    "#     for i in range(nl):\n",
    "#        model.add(nn, activation='relu')\n",
    "#        model.add(2, activation='sigmoid')\n",
    "#        model.compile(optimizer='adam', loss='mse')\n",
    "\n",
    "# model"
   ]
  }
 ],
 "metadata": {
  "kernelspec": {
   "display_name": "Python 3",
   "language": "python",
   "name": "python3"
  },
  "language_info": {
   "codemirror_mode": {
    "name": "ipython",
    "version": 3
   },
   "file_extension": ".py",
   "mimetype": "text/x-python",
   "name": "python",
   "nbconvert_exporter": "python",
   "pygments_lexer": "ipython3",
   "version": "3.11.5"
  }
 },
 "nbformat": 4,
 "nbformat_minor": 2
}
