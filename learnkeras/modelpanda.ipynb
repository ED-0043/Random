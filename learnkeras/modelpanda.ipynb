{
 "cells": [
  {
   "cell_type": "code",
   "execution_count": 25,
   "metadata": {},
   "outputs": [],
   "source": [
    "import pandas as pd\n",
    "import keras\n",
    "import seaborn as sns\n",
    "import matplotlib.pyplot as plt\n",
    "\n",
    "data = pd.read_csv(\"unemployment-rate-men-vs-women.csv\")"
   ]
  },
  {
   "cell_type": "code",
   "execution_count": 2,
   "metadata": {},
   "outputs": [
    {
     "data": {
      "text/plain": [
       "Index(['Entity', 'Code', 'Year',\n",
       "       'Unemployment, female (% of female labor force) (modeled ILO estimate)',\n",
       "       'Unemployment, male (% of male labor force) (modeled ILO estimate)',\n",
       "       'Population (historical estimates)', 'Continent'],\n",
       "      dtype='object')"
      ]
     },
     "execution_count": 2,
     "metadata": {},
     "output_type": "execute_result"
    }
   ],
   "source": [
    "data.columns"
   ]
  },
  {
   "cell_type": "code",
   "execution_count": 3,
   "metadata": {},
   "outputs": [],
   "source": [
    "mapper = {'Unemployment, female (% of female labor force) (modeled ILO estimate)': 'unemployment_women',\n",
    "          'Unemployment, male (% of male labor force) (modeled ILO estimate)': 'unemployment_men',\n",
    "          'Population (historical estimates)': 'population'\n",
    "          }\n",
    "\n",
    "data.rename(columns=mapper, inplace=True)\n",
    "data.rename(str.lower, axis='columns', inplace=True)\n"
   ]
  },
  {
   "cell_type": "code",
   "execution_count": 4,
   "metadata": {},
   "outputs": [
    {
     "data": {
      "text/plain": [
       "pandas.core.frame.DataFrame"
      ]
     },
     "execution_count": 4,
     "metadata": {},
     "output_type": "execute_result"
    }
   ],
   "source": [
    "data.isna().sum()\n",
    "\n",
    "type(data)"
   ]
  },
  {
   "cell_type": "code",
   "execution_count": 13,
   "metadata": {},
   "outputs": [
    {
     "name": "stderr",
     "output_type": "stream",
     "text": [
      "C:\\Users\\KingED\\AppData\\Local\\Temp\\ipykernel_22936\\763551472.py:12: FutureWarning: Series.fillna with 'method' is deprecated and will raise in a future version. Use obj.ffill() or obj.bfill() instead.\n",
      "  dataframe[column] = dataframe[column].fillna(method='ffill')\n"
     ]
    }
   ],
   "source": [
    "# data['code'].sort_values('code').fillna(method='ffill', inplace=True)\n",
    "# data['unemployment_men'].fillna(value=data['unemployment_men'].mean(), inplace=True)\n",
    "# data['unemployment_women'].fillna(value=data['unemployment_women'].mean(), inplace=True)\n",
    "# data['population'].fillna(value=data['population'].mean(), inplace=True)\n",
    "\n",
    "def filler(dataframe: pd.DataFrame, column: str):\n",
    "    \"\"\"\n",
    "    applies the forward fill method of the pandas package on a column in a dataframe\n",
    "\n",
    "    ARGS:\n",
    "    \"\"\"\n",
    "    dataframe[column] = dataframe[column].fillna(method='ffill')\n",
    "    return dataframe[column]\n",
    "\n",
    "def mean_filler(dataframe: pd.DataFrame, column: str):\n",
    "    \"\"\"\n",
    "    applies mean of a column on all missing values in a column, do not use of missing values are too much\n",
    "    \"\"\"\n",
    "    dataframe[column] = dataframe[column].fillna(value=dataframe[column].mean())\n",
    "    return dataframe[column]\n",
    "\n",
    "filler(data, \"code\")\n",
    "filler(data, 'continent')\n",
    "mean_filler(data, 'unemployment_men')\n",
    "mean_filler(data, 'unemployment_women')\n",
    "mean_filler(data, 'population')\n",
    "\n",
    "data.to_csv(\"unemployment_rate.csv\")"
   ]
  },
  {
   "cell_type": "code",
   "execution_count": 23,
   "metadata": {},
   "outputs": [],
   "source": [
    "new = pd.read_csv(\"unemployment_rate.csv\")"
   ]
  }
 ],
 "metadata": {
  "kernelspec": {
   "display_name": "Python 3",
   "language": "python",
   "name": "python3"
  },
  "language_info": {
   "codemirror_mode": {
    "name": "ipython",
    "version": 3
   },
   "file_extension": ".py",
   "mimetype": "text/x-python",
   "name": "python",
   "nbconvert_exporter": "python",
   "pygments_lexer": "ipython3",
   "version": "3.11.5"
  }
 },
 "nbformat": 4,
 "nbformat_minor": 2
}
