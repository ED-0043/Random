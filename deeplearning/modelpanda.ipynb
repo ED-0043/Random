{
 "cells": [
  {
   "cell_type": "code",
   "execution_count": 44,
   "metadata": {},
   "outputs": [],
   "source": [
    "import pandas as pd\n",
    "import keras\n",
    "import seaborn as sns\n",
    "import matplotlib.pyplot as plt\n",
    "import os\n",
    "\n",
    "data = pd.read_csv(\"unemployment-rate-men-vs-women.csv\")"
   ]
  },
  {
   "cell_type": "code",
   "execution_count": 2,
   "metadata": {},
   "outputs": [
    {
     "data": {
      "text/plain": [
       "Index(['Entity', 'Code', 'Year',\n",
       "       'Unemployment, female (% of female labor force) (modeled ILO estimate)',\n",
       "       'Unemployment, male (% of male labor force) (modeled ILO estimate)',\n",
       "       'Population (historical estimates)', 'Continent'],\n",
       "      dtype='object')"
      ]
     },
     "execution_count": 2,
     "metadata": {},
     "output_type": "execute_result"
    }
   ],
   "source": [
    "data.columns"
   ]
  },
  {
   "cell_type": "code",
   "execution_count": 3,
   "metadata": {},
   "outputs": [],
   "source": [
    "mapper = {'Unemployment, female (% of female labor force) (modeled ILO estimate)': 'unemployment_women',\n",
    "          'Unemployment, male (% of male labor force) (modeled ILO estimate)': 'unemployment_men',\n",
    "          'Population (historical estimates)': 'population'\n",
    "          }\n",
    "\n",
    "data.rename(columns=mapper, inplace=True)\n",
    "data.rename(str.lower, axis='columns', inplace=True)\n"
   ]
  },
  {
   "cell_type": "code",
   "execution_count": 4,
   "metadata": {},
   "outputs": [
    {
     "data": {
      "text/plain": [
       "pandas.core.frame.DataFrame"
      ]
     },
     "execution_count": 4,
     "metadata": {},
     "output_type": "execute_result"
    }
   ],
   "source": [
    "data.isna().sum()\n",
    "\n",
    "type(data)"
   ]
  },
  {
   "cell_type": "code",
   "execution_count": 13,
   "metadata": {},
   "outputs": [
    {
     "name": "stderr",
     "output_type": "stream",
     "text": [
      "C:\\Users\\KingED\\AppData\\Local\\Temp\\ipykernel_22936\\763551472.py:12: FutureWarning: Series.fillna with 'method' is deprecated and will raise in a future version. Use obj.ffill() or obj.bfill() instead.\n",
      "  dataframe[column] = dataframe[column].fillna(method='ffill')\n"
     ]
    }
   ],
   "source": [
    "# data['code'].sort_values('code').fillna(method='ffill', inplace=True)\n",
    "# data['unemployment_men'].fillna(value=data['unemployment_men'].mean(), inplace=True)\n",
    "# data['unemployment_women'].fillna(value=data['unemployment_women'].mean(), inplace=True)\n",
    "# data['population'].fillna(value=data['population'].mean(), inplace=True)\n",
    "\n",
    "def filler(dataframe: pd.DataFrame, column: str):\n",
    "    \"\"\"\n",
    "    applies the forward fill method of the pandas package on a column in a dataframe\n",
    "\n",
    "    ARGS:\n",
    "    \"\"\"\n",
    "    dataframe[column] = dataframe[column].fillna(method='ffill')\n",
    "    return dataframe[column]\n",
    "\n",
    "def mean_filler(dataframe: pd.DataFrame, column: str):\n",
    "    \"\"\"\n",
    "    applies mean of a column on all missing values in a column, do not use of missing values are too much\n",
    "    \"\"\"\n",
    "    dataframe[column] = dataframe[column].fillna(value=dataframe[column].mean())\n",
    "    return dataframe[column]\n",
    "\n",
    "filler(data, \"code\")\n",
    "filler(data, 'continent')\n",
    "mean_filler(data, 'unemployment_men')\n",
    "mean_filler(data, 'unemployment_women')\n",
    "mean_filler(data, 'population')\n",
    "\n",
    "data.to_csv(\"unemployment_rate.csv\")"
   ]
  },
  {
   "cell_type": "code",
   "execution_count": 43,
   "metadata": {},
   "outputs": [
    {
     "name": "stdout",
     "output_type": "stream",
     "text": [
      "4 8\n",
      "Epoch 1/15\n",
      "1831/1831 [==============================] - 8s 4ms/step - loss: 43758649344000.0000 - accuracy: 1.7071e-05\n",
      "Epoch 2/15\n",
      "1831/1831 [==============================] - 6s 3ms/step - loss: 4913079779328.0000 - accuracy: 1.7071e-05\n",
      "Epoch 3/15\n",
      "1831/1831 [==============================] - 6s 3ms/step - loss: 487909.9688 - accuracy: 0.0000e+00\n",
      "Epoch 4/15\n",
      "1831/1831 [==============================] - 7s 4ms/step - loss: 1265532665856.0000 - accuracy: 0.0000e+00\n",
      "Epoch 5/15\n",
      "1831/1831 [==============================] - 6s 3ms/step - loss: 396.2180 - accuracy: 1.7071e-05\n",
      "Epoch 6/15\n",
      "1831/1831 [==============================] - 6s 3ms/step - loss: 100651663360.0000 - accuracy: 0.0000e+00\n",
      "Epoch 7/15\n",
      "1831/1831 [==============================] - 6s 3ms/step - loss: 38706.2891 - accuracy: 0.0000e+00\n",
      "Epoch 8/15\n",
      "1831/1831 [==============================] - 7s 4ms/step - loss: 66.1365 - accuracy: 0.0000e+00\n",
      "Epoch 9/15\n",
      "1831/1831 [==============================] - 6s 3ms/step - loss: 70.8197 - accuracy: 0.0000e+00\n",
      "Epoch 10/15\n",
      "1831/1831 [==============================] - 6s 3ms/step - loss: 63.0550 - accuracy: 0.0000e+00\n",
      "Epoch 11/15\n",
      "1831/1831 [==============================] - 6s 3ms/step - loss: 62.9625 - accuracy: 0.0000e+00\n",
      "Epoch 12/15\n",
      "1831/1831 [==============================] - 6s 3ms/step - loss: 66.7611 - accuracy: 1.7071e-05\n",
      "Epoch 13/15\n",
      "1831/1831 [==============================] - 6s 3ms/step - loss: 48.3642 - accuracy: 1.7071e-05\n",
      "Epoch 14/15\n",
      "1831/1831 [==============================] - 6s 3ms/step - loss: 44.6871 - accuracy: 1.7071e-05\n",
      "Epoch 15/15\n",
      "1831/1831 [==============================] - 6s 3ms/step - loss: 18.3707 - accuracy: 1.7071e-05\n"
     ]
    },
    {
     "data": {
      "text/plain": [
       "<keras.src.callbacks.History at 0x13ca68b65d0>"
      ]
     },
     "execution_count": 43,
     "metadata": {},
     "output_type": "execute_result"
    }
   ],
   "source": [
    "new = pd.read_csv(\"unemployment_rate.csv\")\n",
    "\n",
    "import numpy as np\n",
    "from keras.models import Sequential\n",
    "from keras.layers import Dense\n",
    "from sklearn.preprocessing import LabelEncoder, OneHotEncoder\n",
    "\n",
    "encoder = LabelEncoder()\n",
    "hotcoder = OneHotEncoder()\n",
    "new['continent'] = encoder.fit_transform(new['continent'])\n",
    "\n",
    "x =new[['continent', 'year', 'unemployment_women', 'population']]\n",
    "y =new['unemployment_men']\n",
    "input_shape = len(x.columns)\n",
    "print(input_shape, new.shape[1])\n",
    "\n",
    "model = Sequential()\n",
    "model.add(Dense(100, input_shape=(4, ), activation='linear'))\n",
    "model.add(Dense(75, activation='relu'))\n",
    "model.add(Dense(30, activation='relu'))\n",
    "model.add(Dense(1))\n",
    "\n",
    "model.compile(optimizer='adam', loss='mse', metrics='accuracy')\n",
    "model.fit(x, y, epochs=15)\n"
   ]
  },
  {
   "cell_type": "code",
   "execution_count": 62,
   "metadata": {},
   "outputs": [
    {
     "name": "stdout",
     "output_type": "stream",
     "text": [
      "WARNING:tensorflow:Compiled the loaded model, but the compiled metrics have yet to be built. `model.compile_metrics` will be empty until you train or evaluate the model.\n"
     ]
    },
    {
     "name": "stderr",
     "output_type": "stream",
     "text": [
      "WARNING:tensorflow:Compiled the loaded model, but the compiled metrics have yet to be built. `model.compile_metrics` will be empty until you train or evaluate the model.\n"
     ]
    },
    {
     "name": "stdout",
     "output_type": "stream",
     "text": [
      "INFO:tensorflow:Assets written to: C:\\Users\\KingED\\AppData\\Local\\Temp\\tmp_2v5_ueu\\assets\n"
     ]
    },
    {
     "name": "stderr",
     "output_type": "stream",
     "text": [
      "INFO:tensorflow:Assets written to: C:\\Users\\KingED\\AppData\\Local\\Temp\\tmp_2v5_ueu\\assets\n"
     ]
    },
    {
     "name": "stdout",
     "output_type": "stream",
     "text": [
      "WARNING:tensorflow:No training configuration found in save file, so the model was *not* compiled. Compile it manually.\n"
     ]
    },
    {
     "name": "stderr",
     "output_type": "stream",
     "text": [
      "WARNING:tensorflow:No training configuration found in save file, so the model was *not* compiled. Compile it manually.\n"
     ]
    },
    {
     "ename": "AttributeError",
     "evalue": "'NoneType' object has no attribute 'build'",
     "output_type": "error",
     "traceback": [
      "\u001b[1;31m---------------------------------------------------------------------------\u001b[0m",
      "\u001b[1;31mAttributeError\u001b[0m                            Traceback (most recent call last)",
      "Cell \u001b[1;32mIn[62], line 34\u001b[0m\n\u001b[0;32m     31\u001b[0m yd \u001b[38;5;241m=\u001b[39m data[\u001b[38;5;124m'\u001b[39m\u001b[38;5;124mc\u001b[39m\u001b[38;5;124m'\u001b[39m]\u001b[38;5;241m.\u001b[39mvalues\n\u001b[0;32m     33\u001b[0m random \u001b[38;5;241m=\u001b[39m RandomizedSearchCV(estimator\u001b[38;5;241m=\u001b[39mmodel_sk, param_distributions\u001b[38;5;241m=\u001b[39mparams, cv\u001b[38;5;241m=\u001b[39m\u001b[38;5;241m3\u001b[39m)\n\u001b[1;32m---> 34\u001b[0m \u001b[43mrandom\u001b[49m\u001b[38;5;241;43m.\u001b[39;49m\u001b[43mfit\u001b[49m\u001b[43m(\u001b[49m\u001b[43mx\u001b[49m\u001b[43m,\u001b[49m\u001b[43m \u001b[49m\u001b[43my\u001b[49m\u001b[43m)\u001b[49m\n\u001b[0;32m     35\u001b[0m \u001b[38;5;28mprint\u001b[39m(\u001b[38;5;124mf\u001b[39m\u001b[38;5;124m\"\u001b[39m\u001b[38;5;124mBest score is \u001b[39m\u001b[38;5;132;01m{\u001b[39;00mrandomised\u001b[38;5;241m.\u001b[39mbest_score_\u001b[38;5;132;01m}\u001b[39;00m\u001b[38;5;124m, using \u001b[39m\u001b[38;5;132;01m{\u001b[39;00mrandomised\u001b[38;5;241m.\u001b[39mbest_params_\u001b[38;5;132;01m}\u001b[39;00m\u001b[38;5;124m\"\u001b[39m)\n",
      "File \u001b[1;32mc:\\Users\\KingED\\AppData\\Local\\Programs\\Python\\Python311\\Lib\\site-packages\\sklearn\\base.py:1152\u001b[0m, in \u001b[0;36m_fit_context.<locals>.decorator.<locals>.wrapper\u001b[1;34m(estimator, *args, **kwargs)\u001b[0m\n\u001b[0;32m   1145\u001b[0m     estimator\u001b[38;5;241m.\u001b[39m_validate_params()\n\u001b[0;32m   1147\u001b[0m \u001b[38;5;28;01mwith\u001b[39;00m config_context(\n\u001b[0;32m   1148\u001b[0m     skip_parameter_validation\u001b[38;5;241m=\u001b[39m(\n\u001b[0;32m   1149\u001b[0m         prefer_skip_nested_validation \u001b[38;5;129;01mor\u001b[39;00m global_skip_validation\n\u001b[0;32m   1150\u001b[0m     )\n\u001b[0;32m   1151\u001b[0m ):\n\u001b[1;32m-> 1152\u001b[0m     \u001b[38;5;28;01mreturn\u001b[39;00m \u001b[43mfit_method\u001b[49m\u001b[43m(\u001b[49m\u001b[43mestimator\u001b[49m\u001b[43m,\u001b[49m\u001b[43m \u001b[49m\u001b[38;5;241;43m*\u001b[39;49m\u001b[43margs\u001b[49m\u001b[43m,\u001b[49m\u001b[43m \u001b[49m\u001b[38;5;241;43m*\u001b[39;49m\u001b[38;5;241;43m*\u001b[39;49m\u001b[43mkwargs\u001b[49m\u001b[43m)\u001b[49m\n",
      "File \u001b[1;32mc:\\Users\\KingED\\AppData\\Local\\Programs\\Python\\Python311\\Lib\\site-packages\\sklearn\\model_selection\\_search.py:812\u001b[0m, in \u001b[0;36mBaseSearchCV.fit\u001b[1;34m(self, X, y, groups, **fit_params)\u001b[0m\n\u001b[0;32m    809\u001b[0m cv_orig \u001b[38;5;241m=\u001b[39m check_cv(\u001b[38;5;28mself\u001b[39m\u001b[38;5;241m.\u001b[39mcv, y, classifier\u001b[38;5;241m=\u001b[39mis_classifier(estimator))\n\u001b[0;32m    810\u001b[0m n_splits \u001b[38;5;241m=\u001b[39m cv_orig\u001b[38;5;241m.\u001b[39mget_n_splits(X, y, groups)\n\u001b[1;32m--> 812\u001b[0m base_estimator \u001b[38;5;241m=\u001b[39m \u001b[43mclone\u001b[49m\u001b[43m(\u001b[49m\u001b[38;5;28;43mself\u001b[39;49m\u001b[38;5;241;43m.\u001b[39;49m\u001b[43mestimator\u001b[49m\u001b[43m)\u001b[49m\n\u001b[0;32m    814\u001b[0m parallel \u001b[38;5;241m=\u001b[39m Parallel(n_jobs\u001b[38;5;241m=\u001b[39m\u001b[38;5;28mself\u001b[39m\u001b[38;5;241m.\u001b[39mn_jobs, pre_dispatch\u001b[38;5;241m=\u001b[39m\u001b[38;5;28mself\u001b[39m\u001b[38;5;241m.\u001b[39mpre_dispatch)\n\u001b[0;32m    816\u001b[0m fit_and_score_kwargs \u001b[38;5;241m=\u001b[39m \u001b[38;5;28mdict\u001b[39m(\n\u001b[0;32m    817\u001b[0m     scorer\u001b[38;5;241m=\u001b[39mscorers,\n\u001b[0;32m    818\u001b[0m     fit_params\u001b[38;5;241m=\u001b[39mfit_params,\n\u001b[1;32m   (...)\u001b[0m\n\u001b[0;32m    824\u001b[0m     verbose\u001b[38;5;241m=\u001b[39m\u001b[38;5;28mself\u001b[39m\u001b[38;5;241m.\u001b[39mverbose,\n\u001b[0;32m    825\u001b[0m )\n",
      "File \u001b[1;32mc:\\Users\\KingED\\AppData\\Local\\Programs\\Python\\Python311\\Lib\\site-packages\\sklearn\\base.py:75\u001b[0m, in \u001b[0;36mclone\u001b[1;34m(estimator, safe)\u001b[0m\n\u001b[0;32m     41\u001b[0m \u001b[38;5;250m\u001b[39m\u001b[38;5;124;03m\"\"\"Construct a new unfitted estimator with the same parameters.\u001b[39;00m\n\u001b[0;32m     42\u001b[0m \n\u001b[0;32m     43\u001b[0m \u001b[38;5;124;03mClone does a deep copy of the model in an estimator\u001b[39;00m\n\u001b[1;32m   (...)\u001b[0m\n\u001b[0;32m     72\u001b[0m \u001b[38;5;124;03mfound in :ref:`randomness`.\u001b[39;00m\n\u001b[0;32m     73\u001b[0m \u001b[38;5;124;03m\"\"\"\u001b[39;00m\n\u001b[0;32m     74\u001b[0m \u001b[38;5;28;01mif\u001b[39;00m \u001b[38;5;28mhasattr\u001b[39m(estimator, \u001b[38;5;124m\"\u001b[39m\u001b[38;5;124m__sklearn_clone__\u001b[39m\u001b[38;5;124m\"\u001b[39m) \u001b[38;5;129;01mand\u001b[39;00m \u001b[38;5;129;01mnot\u001b[39;00m inspect\u001b[38;5;241m.\u001b[39misclass(estimator):\n\u001b[1;32m---> 75\u001b[0m     \u001b[38;5;28;01mreturn\u001b[39;00m \u001b[43mestimator\u001b[49m\u001b[38;5;241;43m.\u001b[39;49m\u001b[43m__sklearn_clone__\u001b[49m\u001b[43m(\u001b[49m\u001b[43m)\u001b[49m\n\u001b[0;32m     76\u001b[0m \u001b[38;5;28;01mreturn\u001b[39;00m _clone_parametrized(estimator, safe\u001b[38;5;241m=\u001b[39msafe)\n",
      "File \u001b[1;32mc:\\Users\\KingED\\AppData\\Local\\Programs\\Python\\Python311\\Lib\\site-packages\\sklearn\\base.py:268\u001b[0m, in \u001b[0;36mBaseEstimator.__sklearn_clone__\u001b[1;34m(self)\u001b[0m\n\u001b[0;32m    267\u001b[0m \u001b[38;5;28;01mdef\u001b[39;00m \u001b[38;5;21m__sklearn_clone__\u001b[39m(\u001b[38;5;28mself\u001b[39m):\n\u001b[1;32m--> 268\u001b[0m     \u001b[38;5;28;01mreturn\u001b[39;00m \u001b[43m_clone_parametrized\u001b[49m\u001b[43m(\u001b[49m\u001b[38;5;28;43mself\u001b[39;49m\u001b[43m)\u001b[49m\n",
      "File \u001b[1;32mc:\\Users\\KingED\\AppData\\Local\\Programs\\Python\\Python311\\Lib\\site-packages\\sklearn\\base.py:108\u001b[0m, in \u001b[0;36m_clone_parametrized\u001b[1;34m(estimator, safe)\u001b[0m\n\u001b[0;32m    106\u001b[0m new_object_params \u001b[38;5;241m=\u001b[39m estimator\u001b[38;5;241m.\u001b[39mget_params(deep\u001b[38;5;241m=\u001b[39m\u001b[38;5;28;01mFalse\u001b[39;00m)\n\u001b[0;32m    107\u001b[0m \u001b[38;5;28;01mfor\u001b[39;00m name, param \u001b[38;5;129;01min\u001b[39;00m new_object_params\u001b[38;5;241m.\u001b[39mitems():\n\u001b[1;32m--> 108\u001b[0m     new_object_params[name] \u001b[38;5;241m=\u001b[39m \u001b[43mclone\u001b[49m\u001b[43m(\u001b[49m\u001b[43mparam\u001b[49m\u001b[43m,\u001b[49m\u001b[43m \u001b[49m\u001b[43msafe\u001b[49m\u001b[38;5;241;43m=\u001b[39;49m\u001b[38;5;28;43;01mFalse\u001b[39;49;00m\u001b[43m)\u001b[49m\n\u001b[0;32m    110\u001b[0m new_object \u001b[38;5;241m=\u001b[39m klass(\u001b[38;5;241m*\u001b[39m\u001b[38;5;241m*\u001b[39mnew_object_params)\n\u001b[0;32m    111\u001b[0m \u001b[38;5;28;01mtry\u001b[39;00m:\n",
      "File \u001b[1;32mc:\\Users\\KingED\\AppData\\Local\\Programs\\Python\\Python311\\Lib\\site-packages\\sklearn\\base.py:76\u001b[0m, in \u001b[0;36mclone\u001b[1;34m(estimator, safe)\u001b[0m\n\u001b[0;32m     74\u001b[0m \u001b[38;5;28;01mif\u001b[39;00m \u001b[38;5;28mhasattr\u001b[39m(estimator, \u001b[38;5;124m\"\u001b[39m\u001b[38;5;124m__sklearn_clone__\u001b[39m\u001b[38;5;124m\"\u001b[39m) \u001b[38;5;129;01mand\u001b[39;00m \u001b[38;5;129;01mnot\u001b[39;00m inspect\u001b[38;5;241m.\u001b[39misclass(estimator):\n\u001b[0;32m     75\u001b[0m     \u001b[38;5;28;01mreturn\u001b[39;00m estimator\u001b[38;5;241m.\u001b[39m__sklearn_clone__()\n\u001b[1;32m---> 76\u001b[0m \u001b[38;5;28;01mreturn\u001b[39;00m \u001b[43m_clone_parametrized\u001b[49m\u001b[43m(\u001b[49m\u001b[43mestimator\u001b[49m\u001b[43m,\u001b[49m\u001b[43m \u001b[49m\u001b[43msafe\u001b[49m\u001b[38;5;241;43m=\u001b[39;49m\u001b[43msafe\u001b[49m\u001b[43m)\u001b[49m\n",
      "File \u001b[1;32mc:\\Users\\KingED\\AppData\\Local\\Programs\\Python\\Python311\\Lib\\site-packages\\sklearn\\base.py:89\u001b[0m, in \u001b[0;36m_clone_parametrized\u001b[1;34m(estimator, safe)\u001b[0m\n\u001b[0;32m     87\u001b[0m \u001b[38;5;28;01melif\u001b[39;00m \u001b[38;5;129;01mnot\u001b[39;00m \u001b[38;5;28mhasattr\u001b[39m(estimator, \u001b[38;5;124m\"\u001b[39m\u001b[38;5;124mget_params\u001b[39m\u001b[38;5;124m\"\u001b[39m) \u001b[38;5;129;01mor\u001b[39;00m \u001b[38;5;28misinstance\u001b[39m(estimator, \u001b[38;5;28mtype\u001b[39m):\n\u001b[0;32m     88\u001b[0m     \u001b[38;5;28;01mif\u001b[39;00m \u001b[38;5;129;01mnot\u001b[39;00m safe:\n\u001b[1;32m---> 89\u001b[0m         \u001b[38;5;28;01mreturn\u001b[39;00m \u001b[43mcopy\u001b[49m\u001b[38;5;241;43m.\u001b[39;49m\u001b[43mdeepcopy\u001b[49m\u001b[43m(\u001b[49m\u001b[43mestimator\u001b[49m\u001b[43m)\u001b[49m\n\u001b[0;32m     90\u001b[0m     \u001b[38;5;28;01melse\u001b[39;00m:\n\u001b[0;32m     91\u001b[0m         \u001b[38;5;28;01mif\u001b[39;00m \u001b[38;5;28misinstance\u001b[39m(estimator, \u001b[38;5;28mtype\u001b[39m):\n",
      "File \u001b[1;32mc:\\Users\\KingED\\AppData\\Local\\Programs\\Python\\Python311\\Lib\\copy.py:153\u001b[0m, in \u001b[0;36mdeepcopy\u001b[1;34m(x, memo, _nil)\u001b[0m\n\u001b[0;32m    151\u001b[0m copier \u001b[38;5;241m=\u001b[39m \u001b[38;5;28mgetattr\u001b[39m(x, \u001b[38;5;124m\"\u001b[39m\u001b[38;5;124m__deepcopy__\u001b[39m\u001b[38;5;124m\"\u001b[39m, \u001b[38;5;28;01mNone\u001b[39;00m)\n\u001b[0;32m    152\u001b[0m \u001b[38;5;28;01mif\u001b[39;00m copier \u001b[38;5;129;01mis\u001b[39;00m \u001b[38;5;129;01mnot\u001b[39;00m \u001b[38;5;28;01mNone\u001b[39;00m:\n\u001b[1;32m--> 153\u001b[0m     y \u001b[38;5;241m=\u001b[39m \u001b[43mcopier\u001b[49m\u001b[43m(\u001b[49m\u001b[43mmemo\u001b[49m\u001b[43m)\u001b[49m\n\u001b[0;32m    154\u001b[0m \u001b[38;5;28;01melse\u001b[39;00m:\n\u001b[0;32m    155\u001b[0m     reductor \u001b[38;5;241m=\u001b[39m dispatch_table\u001b[38;5;241m.\u001b[39mget(\u001b[38;5;28mcls\u001b[39m)\n",
      "File \u001b[1;32mc:\\Users\\KingED\\AppData\\Local\\Programs\\Python\\Python311\\Lib\\site-packages\\scikeras\\_saving_utils.py:81\u001b[0m, in \u001b[0;36mdeepcopy_model\u001b[1;34m(model, memo)\u001b[0m\n\u001b[0;32m     79\u001b[0m \u001b[38;5;28;01mdef\u001b[39;00m \u001b[38;5;21mdeepcopy_model\u001b[39m(model: keras\u001b[38;5;241m.\u001b[39mModel, memo: Dict[Hashable, Any]) \u001b[38;5;241m-\u001b[39m\u001b[38;5;241m>\u001b[39m keras\u001b[38;5;241m.\u001b[39mModel:\n\u001b[0;32m     80\u001b[0m     _, (model_bytes,) \u001b[38;5;241m=\u001b[39m pack_keras_model(model)\n\u001b[1;32m---> 81\u001b[0m     new_model \u001b[38;5;241m=\u001b[39m \u001b[43munpack_keras_model\u001b[49m\u001b[43m(\u001b[49m\u001b[43mmodel_bytes\u001b[49m\u001b[43m)\u001b[49m\n\u001b[0;32m     82\u001b[0m     memo[model] \u001b[38;5;241m=\u001b[39m new_model\n\u001b[0;32m     83\u001b[0m     \u001b[38;5;28;01mreturn\u001b[39;00m new_model\n",
      "File \u001b[1;32mc:\\Users\\KingED\\AppData\\Local\\Programs\\Python\\Python311\\Lib\\site-packages\\scikeras\\_saving_utils.py:51\u001b[0m, in \u001b[0;36munpack_keras_model\u001b[1;34m(packed_keras_model)\u001b[0m\n\u001b[0;32m     49\u001b[0m model: keras\u001b[38;5;241m.\u001b[39mModel \u001b[38;5;241m=\u001b[39m load_model(temp_dir)\n\u001b[0;32m     50\u001b[0m model\u001b[38;5;241m.\u001b[39mload_weights(temp_dir)\n\u001b[1;32m---> 51\u001b[0m \u001b[43mmodel\u001b[49m\u001b[38;5;241;43m.\u001b[39;49m\u001b[43moptimizer\u001b[49m\u001b[38;5;241;43m.\u001b[39;49m\u001b[43mbuild\u001b[49m(model\u001b[38;5;241m.\u001b[39mtrainable_variables)\n\u001b[0;32m     52\u001b[0m \u001b[38;5;28;01mreturn\u001b[39;00m model\n",
      "\u001b[1;31mAttributeError\u001b[0m: 'NoneType' object has no attribute 'build'"
     ]
    }
   ],
   "source": [
    "# hyperparameter tuning\n",
    "# - you can use batch normalization from the keras.layers module\n",
    "# - you can convert keras model to scikitlearn estimator using the scikeras module, [from scikeras import KerasClassifier]\n",
    "\n",
    "# random search on keras\n",
    "\n",
    "from sklearn.model_selection import RandomizedSearchCV\n",
    "from scikeras.wrappers import KerasClassifier\n",
    "from keras.models import Sequential\n",
    "from keras.layers import Dense\n",
    "import pandas as pd\n",
    "import numpy as np\n",
    "\n",
    "\n",
    "model_two = Sequential()\n",
    "model_two.add(Dense(input_shape=(2, ), activation='relu', units=100))\n",
    "model_two.add(Dense(activation='relu', units=50))\n",
    "model_two.add(Dense(activation='softmax', units=10))\n",
    "\n",
    "model_sk = KerasClassifier(build_fn=model, batch_size=2, epochs=2)\n",
    "\n",
    "params = {'optimizer': ['sdg', 'adama'],\n",
    "          'epochs': 3,\n",
    "          'activation': ['relu', 'tanh'],}\n",
    "\n",
    "x = np.array([[2, 3], [4, 5], [6, 7], [8, 9], [1, 2], [4, 5], [2, 3], [1, 5]])\n",
    "y = np.array([1, 2, 3, 4, 5, 6, 7, 8])\n",
    "\n",
    "data = pd.DataFrame({'a': x[:, 0], 'b': x[:, 1], 'c': y})\n",
    "xd = data[['a', 'b']].values\n",
    "yd = data['c'].values\n",
    "\n",
    "random = RandomizedSearchCV(estimator=model_sk, param_distributions=params, cv=3)\n",
    "random.fit(x, y)\n",
    "print(f\"Best score is {randomised.best_score_}, using {randomised.best_params_}\")\n"
   ]
  },
  {
   "cell_type": "code",
   "execution_count": null,
   "metadata": {},
   "outputs": [],
   "source": [
    "from typing import List\n",
    "\n",
    "def model(nn: List[int], nl: List[int]):\n",
    "    model = Sequential()\n",
    "    model.add(Dense(16, input_shape=(2, ), activation='relu'))\n",
    "    for i in range(nl):\n",
    "       model.add(nn, activation='relu')\n",
    "       model.add(2, activation='sigmoid')\n",
    "       model.compile(optimizer='adam', loss='mse')\n",
    "\n",
    "model"
   ]
  }
 ],
 "metadata": {
  "kernelspec": {
   "display_name": "Python 3",
   "language": "python",
   "name": "python3"
  },
  "language_info": {
   "codemirror_mode": {
    "name": "ipython",
    "version": 3
   },
   "file_extension": ".py",
   "mimetype": "text/x-python",
   "name": "python",
   "nbconvert_exporter": "python",
   "pygments_lexer": "ipython3",
   "version": "3.11.5"
  }
 },
 "nbformat": 4,
 "nbformat_minor": 2
}
