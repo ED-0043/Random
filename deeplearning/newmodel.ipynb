{
 "cells": [
  {
   "cell_type": "markdown",
   "metadata": {},
   "source": [
    "#### Context\n",
    "I was interested in analyzing how NFL offenses have evolved over the modern era. I used www.pro-football-reference.com to find the data that I was interested in analyzing. I used Python BeautifulSoup4 and a selenium Webdriver to pull the html data from the website and load it into a DataFrame for analysis.\n",
    "\n",
    "##### Content\n",
    "There is currently data on 672 Teams across 21 seasons. The stats included are regarding team record, passing, rushing, penalties, turnovers, and more.\n",
    "The file team_stats_2003_2023.csv contains 35 variables outlined below."
   ]
  },
  {
   "cell_type": "code",
   "execution_count": null,
   "metadata": {},
   "outputs": [],
   "source": [
    "import pandas as pd\n",
    "import numpy as np\n",
    "import matplotlib.pyplot as plt\n",
    "\n",
    "team_stats = pd.read_csv(\"team_stats_2003_2023.csv\")\n",
    "team_stats.head()"
   ]
  },
  {
   "cell_type": "markdown",
   "metadata": {},
   "source": [
    "##### note that a lot of EDA needs to be done on the data"
   ]
  },
  {
   "cell_type": "code",
   "execution_count": null,
   "metadata": {},
   "outputs": [],
   "source": [
    "team_stats.info(verbose=True)"
   ]
  },
  {
   "cell_type": "code",
   "execution_count": null,
   "metadata": {},
   "outputs": [],
   "source": [
    "team_stats.isna().sum()"
   ]
  },
  {
   "cell_type": "code",
   "execution_count": null,
   "metadata": {},
   "outputs": [],
   "source": [
    "team_list = team_stats['team'].unique()\n",
    "no_teams = len(team_list)\n",
    "\n",
    "print(f\"there are {no_teams} teams in the dataset\")"
   ]
  },
  {
   "cell_type": "code",
   "execution_count": null,
   "metadata": {},
   "outputs": [],
   "source": [
    "# named the wlp(wins, losses, points to save strength)\n",
    "\n",
    "wlp = team_stats.groupby(by=['team'])[['wins', 'losses', 'points']].sum()\n",
    "wlp['total_games'] = wlp['wins'] + wlp['losses']\n",
    "wlp.sort_values(by='points', ascending=False)\n"
   ]
  },
  {
   "cell_type": "code",
   "execution_count": null,
   "metadata": {},
   "outputs": [],
   "source": [
    "# rectify the issue with this function: reference to the matplotlib library\n",
    "\n",
    "def plot(df, col1, *col2, xlabel, ylabel, title):\n",
    "    plt.bar(height=df.index, x=df[col1],)\n",
    "    plt.title(title)\n",
    "    plt.xlabel(xlabel=xlabel)\n",
    "    plt.ylabel(ylabel=ylabel)\n",
    "    plt.show()\n",
    "plot(df=wlp, col1='wins', xlabel='teams', ylabel='wins', title='wins per team')"
   ]
  },
  {
   "cell_type": "code",
   "execution_count": null,
   "metadata": {},
   "outputs": [],
   "source": [
    "team_stats['ties'].isna().sum()\n",
    "\n",
    "# probably going to drop this because of missing data"
   ]
  },
  {
   "cell_type": "markdown",
   "metadata": {},
   "source": [
    "#### Pobably use machine learning to create a model that can predict team wins "
   ]
  },
  {
   "cell_type": "code",
   "execution_count": null,
   "metadata": {},
   "outputs": [],
   "source": [
    "# this is going to involve supervised learning so the sklearn module is going to be used\n",
    "# using lazypredict module to see the best regression models for running the predictions\n",
    "\n",
    "from lazypredict.Supervised import LazyRegressor\n",
    "\n",
    "lazypred = LazyRegressor(regressors='all', ignore_warnings=True)\n",
    "models, predictions = lazypred.fit()\n",
    "models"
   ]
  },
  {
   "cell_type": "code",
   "execution_count": null,
   "metadata": {},
   "outputs": [],
   "source": [
    "from sklearn.\n",
    "from sklearn.\n",
    "from sklearn.\n",
    "# incase i need to make an ensemble of models\n",
    "from sklearn.ensemble\n",
    "from sklearn.pipeline\n",
    "from sklearn.model_selection import train_test_split\n",
    "from sklearn.model_selection import RandomizedSearchCV\n",
    "from sklearn.metrics import accuracy_score, mean_squared_error, mean_absolute_error\n",
    "from sklearn.metrics import confusion_matrix"
   ]
  }
 ],
 "metadata": {
  "kernelspec": {
   "display_name": "Python 3",
   "language": "python",
   "name": "python3"
  },
  "language_info": {
   "codemirror_mode": {
    "name": "ipython",
    "version": 3
   },
   "file_extension": ".py",
   "mimetype": "text/x-python",
   "name": "python",
   "nbconvert_exporter": "python",
   "pygments_lexer": "ipython3",
   "version": "3.11.5"
  }
 },
 "nbformat": 4,
 "nbformat_minor": 2
}
