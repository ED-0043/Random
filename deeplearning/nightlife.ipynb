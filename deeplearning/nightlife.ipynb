{
 "cells": [
  {
   "cell_type": "code",
   "execution_count": 1,
   "metadata": {},
   "outputs": [],
   "source": [
    "import torch\n",
    "from torch import nn\n",
    "from torch.nn import functional\n",
    "from torch import optim\n",
    "\n",
    "from torchvision import transforms\n",
    "import torchvision.datasets\n",
    "\n",
    "import matplotlib.pyplot as plt\n",
    "import numpy as np"
   ]
  },
  {
   "cell_type": "markdown",
   "metadata": {},
   "source": [
    "#### preprocessing the images"
   ]
  },
  {
   "cell_type": "code",
   "execution_count": null,
   "metadata": {},
   "outputs": [],
   "source": [
    "transforms = transforms.Compose([\n",
    "    transforms.ToTensor(),\n",
    "    transforms.Normalize((.5, .5, .5),(.5, .5, .5))\n",
    "])\n",
    "\n",
    "trainset = torchvision.datasets.CIFAR10(root='./image_processing/',\n",
    "                                        download=True,\n",
    "                                        train=True,\n",
    "                                        transform=transforms)\n",
    "\n",
    "loader = torch.utils.data.DataLoader(trainset, \n",
    "                                     shuffle=True, \n",
    "                                     batch_size=4, \n",
    "                                     num_workers=2)\n",
    "classes = (...)"
   ]
  },
  {
   "cell_type": "code",
   "execution_count": null,
   "metadata": {},
   "outputs": [],
   "source": [
    "class Work(nn.Module):\n",
    "    def __init__(self):\n",
    "        super(Work, self).__init__()\n",
    "        self.conv2d = nn.Conv2d()\n",
    "        self.pool = nn.MaxPool2d()    \n",
    "        self.conv2d = nn.Conv2d()\n",
    "        self.lay1 = nn.Linear()\n",
    "        self.lay2 = nn.Linear()\n",
    "        self.lay3 = nn.Linear()\n",
    "\n",
    "    def forward(self, x):\n",
    "        x = self.pool(functional.relu(self.conv2d(x)))\n",
    "        x = self.pool(functional.relu(self.conv2d(x)))\n",
    "        x = x.view(-1, 16 * 5 * 5)\n",
    "        x = functional.relu(self.lay1(x))\n",
    "        x = functional.relu(self.lay2(x))\n",
    "        x = self.lay3(x)\n",
    "        return x\n",
    "    \n",
    "word = Work()"
   ]
  },
  {
   "cell_type": "code",
   "execution_count": null,
   "metadata": {},
   "outputs": [],
   "source": [
    "criterion = nn.CrossEntropyLoss()\n",
    "optimizer = optim.SGD(word.parameters(),\n",
    "                      lr=0.001, \n",
    "                      momentum=0.9)"
   ]
  },
  {
   "cell_type": "markdown",
   "metadata": {},
   "source": [
    "#### training the model"
   ]
  },
  {
   "cell_type": "code",
   "execution_count": null,
   "metadata": {},
   "outputs": [],
   "source": [
    "for epochs in range(2):\n",
    "    run_loss = 0.0\n",
    "\n",
    "    for i, data in enumerate(loader, 0):\n",
    "        inputs, labels = data\n",
    "        \n",
    "        optimizer.zero_grad()\n",
    "\n",
    "        outputs = word(inputs)\n",
    "        loss = criterion(outputs, labels)\n",
    "        loss.backword()\n",
    "        optimizer.step()\n",
    "\n",
    "        run_loss += loss.item()\n",
    "        if i % 2000 == 1999:\n",
    "            print(...)\n",
    "\n",
    "print(\"finished training \")\n"
   ]
  },
  {
   "cell_type": "markdown",
   "metadata": {},
   "source": [
    "##### testing for overfitting"
   ]
  },
  {
   "cell_type": "code",
   "execution_count": null,
   "metadata": {},
   "outputs": [],
   "source": [
    "good = 0\n",
    "total = 0\n",
    "\n",
    "with torch.no_grad():\n",
    "    for data in loader:\n",
    "        images, labels = data\n",
    "        outputs = word(images)\n",
    "        _, predicted = torch.max(outputs.data, 1)\n",
    "        total += labels.size(0)\n",
    "        good += (predicted == labels).sum().item()\n",
    "\n",
    "print(f\"accuracy of model is : {good / total}\")"
   ]
  },
  {
   "cell_type": "markdown",
   "metadata": {},
   "source": [
    "##### saving model to torch script using JIT"
   ]
  },
  {
   "cell_type": "code",
   "execution_count": null,
   "metadata": {},
   "outputs": [],
   "source": [
    "word_script = torch.jit.script(word)\n",
    "word_script.save(\"Word_Script.pt\")"
   ]
  }
 ],
 "metadata": {
  "kernelspec": {
   "display_name": "Python 3",
   "language": "python",
   "name": "python3"
  },
  "language_info": {
   "codemirror_mode": {
    "name": "ipython",
    "version": 3
   },
   "file_extension": ".py",
   "mimetype": "text/x-python",
   "name": "python",
   "nbconvert_exporter": "python",
   "pygments_lexer": "ipython3",
   "version": "3.11.5"
  }
 },
 "nbformat": 4,
 "nbformat_minor": 2
}
