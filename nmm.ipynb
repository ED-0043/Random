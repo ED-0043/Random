{
 "cells": [
  {
   "cell_type": "code",
   "execution_count": 53,
   "metadata": {},
   "outputs": [
    {
     "name": "stdout",
     "output_type": "stream",
     "text": [
      "[('twentieth', 2), ('century', 2), ('explain', 2), ('theory', 2), ('space', 2), ('physics', 2), ('physicists', 2), ('particles', 2), ('turn', 1), ('lorentz', 1)]\n"
     ]
    }
   ],
   "source": [
    "from nltk.tokenize import word_tokenize\n",
    "from nltk.corpus import stopwords\n",
    "from collections import Counter\n",
    "\n",
    "words = \"At the turn of the twentieth century, Lorentz understood the futility of mechanical support to explain the propagation of the electromagnetic field. He also discovered the theory of electrons.Meanwhile, the mathematicians Gauss, Lobatchevski, Bolyai and Riemann created the concept of curved space and endeavored to define the peculiarities of coordinate systems relative to each other, concepts that will be taken up by Poincaré and Einstein.To explain some strange states of matter, such as specific heat and photoelectric effect, Planck, Bohr and Dirac imposed quantum physics as the new obligatory passage for physicists. They demonstrated that electrons can not be precisely located in space and time.Born, de Broglie, Heisenberg and Schrödinger insisted that the particles must be represented by wave functions and can only be determined by statistical calculation. In parallel, the progressive discovery of a whole universe of elementary particles allowed physicists to sketch the first theories of the genesis of the universe.All these conceptions, so great as they were, were overtaken by a monument of physics. Fascinated but often critical of the ideas of his ancestors, Einstein developed the theory of Relativity restricted to uniform movements at the beginning of the twentieth century, which he summarized as follows: “The mass is no longer an im\"\n",
    "\n",
    "tokens = [w for w in word_tokenize(words.lower()) if w.isalpha()]\n",
    "tokens\n",
    "\n",
    "stopped_words = [t for t in tokens if t not in stopwords.words('english')]\n",
    "len(stopped_words), len(tokens)\n",
    "\n",
    "print(Counter(stopped_words).most_common(10))"
   ]
  },
  {
   "cell_type": "code",
   "execution_count": 52,
   "metadata": {},
   "outputs": [
    {
     "name": "stderr",
     "output_type": "stream",
     "text": [
      "[nltk_data] Downloading package stopwords to\n",
      "[nltk_data]     C:\\Users\\KingED\\AppData\\Roaming\\nltk_data...\n",
      "[nltk_data]   Package stopwords is already up-to-date!\n"
     ]
    },
    {
     "data": {
      "text/plain": [
       "True"
      ]
     },
     "execution_count": 52,
     "metadata": {},
     "output_type": "execute_result"
    }
   ],
   "source": [
    "import nltk\n",
    "nltk.download('stopwords')"
   ]
  }
 ],
 "metadata": {
  "kernelspec": {
   "display_name": "Python 3",
   "language": "python",
   "name": "python3"
  },
  "language_info": {
   "codemirror_mode": {
    "name": "ipython",
    "version": 3
   },
   "file_extension": ".py",
   "mimetype": "text/x-python",
   "name": "python",
   "nbconvert_exporter": "python",
   "pygments_lexer": "ipython3",
   "version": "3.11.5"
  }
 },
 "nbformat": 4,
 "nbformat_minor": 2
}
