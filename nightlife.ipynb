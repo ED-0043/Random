{
 "cells": [
  {
   "cell_type": "code",
   "execution_count": 23,
   "metadata": {},
   "outputs": [],
   "source": [
    "import torch\n",
    "from torch import nn\n",
    "from torch.nn import functional\n",
    "from torch import optim\n",
    "\n",
    "from torchvision import transforms\n",
    "import torchvision.datasets\n",
    "\n",
    "import matplotlib.pyplot as plt\n",
    "import numpy as np"
   ]
  },
  {
   "cell_type": "markdown",
   "metadata": {},
   "source": [
    "#### preprocessing the images"
   ]
  },
  {
   "cell_type": "code",
   "execution_count": null,
   "metadata": {},
   "outputs": [],
   "source": [
    "transforms = transforms.Compose([\n",
    "    transforms.ToTensor(),\n",
    "    transforms.Normalize((.5, .5, .5),(.5, .5, .5))\n",
    "])\n",
    "\n",
    "trainset = torchvision.datasets.CIFAR10(root='./image_processing/',\n",
    "                                        download=True,\n",
    "                                        train=True,\n",
    "                                        transform=transforms)\n",
    "\n",
    "loader = torch.utils.data.dataloader(trainset,\n",
    "                                     shuffule=True,\n",
    "                                     batch_size=4,\n",
    "                                     num_workers=2\n",
    "                                     )\n",
    "classes = (...)"
   ]
  }
 ],
 "metadata": {
  "kernelspec": {
   "display_name": "Python 3",
   "language": "python",
   "name": "python3"
  },
  "language_info": {
   "codemirror_mode": {
    "name": "ipython",
    "version": 3
   },
   "file_extension": ".py",
   "mimetype": "text/x-python",
   "name": "python",
   "nbconvert_exporter": "python",
   "pygments_lexer": "ipython3",
   "version": "3.11.5"
  }
 },
 "nbformat": 4,
 "nbformat_minor": 2
}
